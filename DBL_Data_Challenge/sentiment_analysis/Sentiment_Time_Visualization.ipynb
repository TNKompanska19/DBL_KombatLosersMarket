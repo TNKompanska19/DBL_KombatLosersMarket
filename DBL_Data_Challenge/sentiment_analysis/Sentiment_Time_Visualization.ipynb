{
 "cells": [
  {
   "cell_type": "code",
   "execution_count": 1,
   "id": "81bd51c0",
   "metadata": {},
   "outputs": [
    {
     "name": "stdout",
     "output_type": "stream",
     "text": [
      "Collecting package metadata (current_repodata.json): ...working... done\n",
      "Solving environment: ...working... done\n",
      "\n",
      "# All requested packages already installed.\n",
      "\n"
     ]
    },
    {
     "name": "stderr",
     "output_type": "stream",
     "text": [
      "\n",
      "\n",
      "==> WARNING: A newer version of conda exists. <==\n",
      "  current version: 4.12.0\n",
      "  latest version: 25.5.1\n",
      "\n",
      "Please update conda by running\n",
      "\n",
      "    $ conda update -n base -c defaults conda\n",
      "\n",
      "\n"
     ]
    }
   ],
   "source": [
    "!conda install -y psycopg2"
   ]
  },
  {
   "cell_type": "code",
   "execution_count": 2,
   "id": "891d8b32",
   "metadata": {},
   "outputs": [],
   "source": [
    "from sqlalchemy import create_engine\n",
    "import pandas as pd\n",
    "\n",
    "conn_str = (\n",
    "    \"postgresql+psycopg2://dbadmin:BZ6uHRGxki6a7qD\"\n",
    "    \"@dcpostgres.postgres.database.azure.com:5432/DataChallenge\"\n",
    ")\n",
    "\n"
   ]
  },
  {
   "cell_type": "code",
   "execution_count": 3,
   "id": "a23ee943",
   "metadata": {},
   "outputs": [],
   "source": [
    "import pandas as pd\n",
    "import ast\n",
    "import psycopg2\n",
    "\n",
    "conn = psycopg2.connect(\n",
    "    dbname=\"DataChallenge\",\n",
    "    user=\"dbadmin\",\n",
    "    password=\"BZ6uHRGxki6a7qD\",\n",
    "    host=\"dcpostgres.postgres.database.azure.com\",\n",
    "    port=\"5432\",\n",
    "    sslmode=\"require\"\n",
    ")\n",
    "\n",
    "query = \"\"\"\n",
    "SELECT\n",
    "  created_at,\n",
    "  senti_raw_tabularis\n",
    "FROM tweets\n",
    "WHERE senti_raw_tabularis IS NOT NULL\n",
    "  AND created_at      IS NOT NULL;\n",
    "\"\"\"\n",
    "\n",
    "df = pd.read_sql_query(query, conn)\n",
    "\n",
    "df['label'] = df['senti_raw_tabularis'].apply(lambda x: ast.literal_eval(x)['label'])\n",
    "\n",
    "df['created_at'] = pd.to_datetime(df['created_at'])\n"
   ]
  },
  {
   "cell_type": "code",
   "execution_count": 4,
   "id": "4ab6710b",
   "metadata": {},
   "outputs": [],
   "source": [
    "import pandas as pd\n",
    "\n",
    "weekly_counts = (\n",
    "    df\n",
    "    .groupby([pd.Grouper(key='created_at', freq='W'), 'label'])\n",
    "    .size()\n",
    "    .reset_index(name='count')\n",
    ")\n",
    "\n",
    "weekly_pivot = (\n",
    "    weekly_counts\n",
    "    .pivot(index='created_at', columns='label', values='count')\n",
    "    .fillna(0)\n",
    "    .reset_index()\n",
    ")\n",
    "\n"
   ]
  },
  {
   "cell_type": "code",
   "execution_count": 5,
   "id": "79982a3f",
   "metadata": {},
   "outputs": [],
   "source": [
    "import plotly.io as pio\n",
    "\n",
    "pio.renderers.default = 'notebook_connected'\n"
   ]
  },
  {
   "cell_type": "code",
   "execution_count": 6,
   "id": "9ecbe260",
   "metadata": {},
   "outputs": [],
   "source": [
    "weekly_three = weekly_pivot.copy()\n",
    "\n",
    "weekly_three['positive'] = (\n",
    "    weekly_three['Very Positive'] +\n",
    "    weekly_three['Positive']\n",
    ")\n",
    "\n",
    "weekly_three['negative'] = (\n",
    "    weekly_three['Very Negative'] +\n",
    "    weekly_three['Negative']\n",
    ")\n",
    "\n",
    "weekly_three['neutral'] = weekly_three['Neutral']\n",
    "\n",
    "weekly_three = weekly_three[['created_at', 'positive', 'neutral', 'negative']]\n"
   ]
  },
  {
   "cell_type": "code",
   "execution_count": 7,
   "id": "a2aaf498",
   "metadata": {},
   "outputs": [
    {
     "data": {
      "text/html": [
       "        <script type=\"text/javascript\">\n",
       "        window.PlotlyConfig = {MathJaxConfig: 'local'};\n",
       "        if (window.MathJax && window.MathJax.Hub && window.MathJax.Hub.Config) {window.MathJax.Hub.Config({SVG: {font: \"STIX-Web\"}});}\n",
       "        </script>\n",
       "        <script type=\"module\">import \"https://cdn.plot.ly/plotly-3.0.1.min\"</script>\n",
       "        "
      ]
     },
     "metadata": {},
     "output_type": "display_data"
    },
    {
     "data": {
      "text/html": [
       "<div>            <script src=\"https://cdnjs.cloudflare.com/ajax/libs/mathjax/2.7.5/MathJax.js?config=TeX-AMS-MML_SVG\"></script><script type=\"text/javascript\">if (window.MathJax && window.MathJax.Hub && window.MathJax.Hub.Config) {window.MathJax.Hub.Config({SVG: {font: \"STIX-Web\"}});}</script>                <script type=\"text/javascript\">window.PlotlyConfig = {MathJaxConfig: 'local'};</script>\n",
       "        <script charset=\"utf-8\" src=\"https://cdn.plot.ly/plotly-3.0.1.min.js\"></script>                <div id=\"2a900d57-ac13-48ba-a7fe-63ab23625142\" class=\"plotly-graph-div\" style=\"height:525px; width:100%;\"></div>            <script type=\"text/javascript\">                window.PLOTLYENV=window.PLOTLYENV || {};                                if (document.getElementById(\"2a900d57-ac13-48ba-a7fe-63ab23625142\")) {                    Plotly.newPlot(                        \"2a900d57-ac13-48ba-a7fe-63ab23625142\",                        [{\"fillpattern\":{\"shape\":\"\"},\"hovertemplate\":\"variable=positive\\u003cbr\\u003eWeek=%{x}\\u003cbr\\u003eTweet Count=%{y}\\u003cextra\\u003e\\u003c\\u002fextra\\u003e\",\"legendgroup\":\"positive\",\"line\":{\"color\":\"#0072B2\"},\"marker\":{\"symbol\":\"circle\"},\"mode\":\"lines\",\"name\":\"positive\",\"orientation\":\"v\",\"showlegend\":true,\"stackgroup\":\"1\",\"x\":[\"2019-05-26T00:00:00.000000000\",\"2019-06-02T00:00:00.000000000\",\"2019-06-09T00:00:00.000000000\",\"2019-06-16T00:00:00.000000000\",\"2019-06-23T00:00:00.000000000\",\"2019-06-30T00:00:00.000000000\",\"2019-07-07T00:00:00.000000000\",\"2019-07-14T00:00:00.000000000\",\"2019-07-21T00:00:00.000000000\",\"2019-07-28T00:00:00.000000000\",\"2019-08-04T00:00:00.000000000\",\"2019-08-11T00:00:00.000000000\",\"2019-08-18T00:00:00.000000000\",\"2019-08-25T00:00:00.000000000\",\"2019-09-01T00:00:00.000000000\",\"2019-09-08T00:00:00.000000000\",\"2019-09-15T00:00:00.000000000\",\"2019-09-22T00:00:00.000000000\",\"2019-09-29T00:00:00.000000000\",\"2019-10-06T00:00:00.000000000\",\"2019-10-27T00:00:00.000000000\",\"2019-11-03T00:00:00.000000000\",\"2019-11-10T00:00:00.000000000\",\"2019-11-17T00:00:00.000000000\",\"2019-11-24T00:00:00.000000000\",\"2019-12-01T00:00:00.000000000\",\"2019-12-08T00:00:00.000000000\",\"2019-12-15T00:00:00.000000000\",\"2019-12-22T00:00:00.000000000\",\"2019-12-29T00:00:00.000000000\",\"2020-01-05T00:00:00.000000000\",\"2020-01-12T00:00:00.000000000\",\"2020-01-19T00:00:00.000000000\",\"2020-01-26T00:00:00.000000000\",\"2020-02-02T00:00:00.000000000\",\"2020-02-09T00:00:00.000000000\",\"2020-02-16T00:00:00.000000000\",\"2020-02-23T00:00:00.000000000\",\"2020-03-01T00:00:00.000000000\",\"2020-03-08T00:00:00.000000000\",\"2020-03-15T00:00:00.000000000\",\"2020-03-22T00:00:00.000000000\",\"2020-03-29T00:00:00.000000000\",\"2020-04-05T00:00:00.000000000\"],\"xaxis\":\"x\",\"y\":{\"dtype\":\"i4\",\"bdata\":\"aFcAAK+DAABqxQAAhI0AAD7LAAASsQAAqq0AADuiAABnwAAAHZYAAHOMAABO6AAA9l4AAH4eAACniAAAEI8AAN+HAAC7uwAAYqkAAPFEAABqVAAAV5kAAMeFAAD2jwAAUBYBAD7PAADDdgAAE30AAD6WAABOagAAKYUAAE6AAAAGbQAAM3QAAOqKAAA7hwAA6wEBAFm2AAAyhQAAyIsAABb5AAAcdQEAjNMAABUkAAA=\"},\"yaxis\":\"y\",\"type\":\"scatter\"},{\"fillpattern\":{\"shape\":\"\"},\"hovertemplate\":\"variable=neutral\\u003cbr\\u003eWeek=%{x}\\u003cbr\\u003eTweet Count=%{y}\\u003cextra\\u003e\\u003c\\u002fextra\\u003e\",\"legendgroup\":\"neutral\",\"line\":{\"color\":\"#E69F00\"},\"marker\":{\"symbol\":\"circle\"},\"mode\":\"lines\",\"name\":\"neutral\",\"orientation\":\"v\",\"showlegend\":true,\"stackgroup\":\"1\",\"x\":[\"2019-05-26T00:00:00.000000000\",\"2019-06-02T00:00:00.000000000\",\"2019-06-09T00:00:00.000000000\",\"2019-06-16T00:00:00.000000000\",\"2019-06-23T00:00:00.000000000\",\"2019-06-30T00:00:00.000000000\",\"2019-07-07T00:00:00.000000000\",\"2019-07-14T00:00:00.000000000\",\"2019-07-21T00:00:00.000000000\",\"2019-07-28T00:00:00.000000000\",\"2019-08-04T00:00:00.000000000\",\"2019-08-11T00:00:00.000000000\",\"2019-08-18T00:00:00.000000000\",\"2019-08-25T00:00:00.000000000\",\"2019-09-01T00:00:00.000000000\",\"2019-09-08T00:00:00.000000000\",\"2019-09-15T00:00:00.000000000\",\"2019-09-22T00:00:00.000000000\",\"2019-09-29T00:00:00.000000000\",\"2019-10-06T00:00:00.000000000\",\"2019-10-27T00:00:00.000000000\",\"2019-11-03T00:00:00.000000000\",\"2019-11-10T00:00:00.000000000\",\"2019-11-17T00:00:00.000000000\",\"2019-11-24T00:00:00.000000000\",\"2019-12-01T00:00:00.000000000\",\"2019-12-08T00:00:00.000000000\",\"2019-12-15T00:00:00.000000000\",\"2019-12-22T00:00:00.000000000\",\"2019-12-29T00:00:00.000000000\",\"2020-01-05T00:00:00.000000000\",\"2020-01-12T00:00:00.000000000\",\"2020-01-19T00:00:00.000000000\",\"2020-01-26T00:00:00.000000000\",\"2020-02-02T00:00:00.000000000\",\"2020-02-09T00:00:00.000000000\",\"2020-02-16T00:00:00.000000000\",\"2020-02-23T00:00:00.000000000\",\"2020-03-01T00:00:00.000000000\",\"2020-03-08T00:00:00.000000000\",\"2020-03-15T00:00:00.000000000\",\"2020-03-22T00:00:00.000000000\",\"2020-03-29T00:00:00.000000000\",\"2020-04-05T00:00:00.000000000\"],\"xaxis\":\"x\",\"y\":{\"dtype\":\"i4\",\"bdata\":\"i10AAGOJAAAbpwEAZqsAAH7uAAC6rQAAEegAAHXXAACaEQEAG7IAACC8AACJrAEAinMAAJgfAAB1xAAAzb0AAEOkAAAT4QAAJLEAAK5JAACjWgAAqo8AANCiAADLrwAAhqkAAM3RAADDmgAAnK8AAEOEAADveAAAupsAAGy4AADQhAAAkH0AAJDJAACAuQAAnz0BAHkEAQC9uAAAbOYAAAXyAQAAtwIAE3ABABpGAAA=\"},\"yaxis\":\"y\",\"type\":\"scatter\"},{\"fillpattern\":{\"shape\":\"\"},\"hovertemplate\":\"variable=negative\\u003cbr\\u003eWeek=%{x}\\u003cbr\\u003eTweet Count=%{y}\\u003cextra\\u003e\\u003c\\u002fextra\\u003e\",\"legendgroup\":\"negative\",\"line\":{\"color\":\"#D35FB7\"},\"marker\":{\"symbol\":\"circle\"},\"mode\":\"lines\",\"name\":\"negative\",\"orientation\":\"v\",\"showlegend\":true,\"stackgroup\":\"1\",\"x\":[\"2019-05-26T00:00:00.000000000\",\"2019-06-02T00:00:00.000000000\",\"2019-06-09T00:00:00.000000000\",\"2019-06-16T00:00:00.000000000\",\"2019-06-23T00:00:00.000000000\",\"2019-06-30T00:00:00.000000000\",\"2019-07-07T00:00:00.000000000\",\"2019-07-14T00:00:00.000000000\",\"2019-07-21T00:00:00.000000000\",\"2019-07-28T00:00:00.000000000\",\"2019-08-04T00:00:00.000000000\",\"2019-08-11T00:00:00.000000000\",\"2019-08-18T00:00:00.000000000\",\"2019-08-25T00:00:00.000000000\",\"2019-09-01T00:00:00.000000000\",\"2019-09-08T00:00:00.000000000\",\"2019-09-15T00:00:00.000000000\",\"2019-09-22T00:00:00.000000000\",\"2019-09-29T00:00:00.000000000\",\"2019-10-06T00:00:00.000000000\",\"2019-10-27T00:00:00.000000000\",\"2019-11-03T00:00:00.000000000\",\"2019-11-10T00:00:00.000000000\",\"2019-11-17T00:00:00.000000000\",\"2019-11-24T00:00:00.000000000\",\"2019-12-01T00:00:00.000000000\",\"2019-12-08T00:00:00.000000000\",\"2019-12-15T00:00:00.000000000\",\"2019-12-22T00:00:00.000000000\",\"2019-12-29T00:00:00.000000000\",\"2020-01-05T00:00:00.000000000\",\"2020-01-12T00:00:00.000000000\",\"2020-01-19T00:00:00.000000000\",\"2020-01-26T00:00:00.000000000\",\"2020-02-02T00:00:00.000000000\",\"2020-02-09T00:00:00.000000000\",\"2020-02-16T00:00:00.000000000\",\"2020-02-23T00:00:00.000000000\",\"2020-03-01T00:00:00.000000000\",\"2020-03-08T00:00:00.000000000\",\"2020-03-15T00:00:00.000000000\",\"2020-03-22T00:00:00.000000000\",\"2020-03-29T00:00:00.000000000\",\"2020-04-05T00:00:00.000000000\"],\"xaxis\":\"x\",\"y\":{\"dtype\":\"i4\",\"bdata\":\"Lj4AAKFrAABsRAEAHbEAAHbuAAAgsgAAibkAAOerAACq3QAAn5UAABmaAAC98gIArVUAADUkAAC5pAAAD9wAAMx7AACfgwAAoXIAAHNAAAC5QAAAoGkAAA+AAAADgAAA6KYAANWHAAAVeAAA+HkAABtjAAAWYgAAL3cAAKyfAABacQAAT10AAM+NAADbjAAAgWsBAOnkAAADtgAAn8oAAPhlAQD0gAIA0igBAFw2AAA=\"},\"yaxis\":\"y\",\"type\":\"scatter\"}],                        {\"template\":{\"data\":{\"barpolar\":[{\"marker\":{\"line\":{\"color\":\"white\",\"width\":0.5},\"pattern\":{\"fillmode\":\"overlay\",\"size\":10,\"solidity\":0.2}},\"type\":\"barpolar\"}],\"bar\":[{\"error_x\":{\"color\":\"#2a3f5f\"},\"error_y\":{\"color\":\"#2a3f5f\"},\"marker\":{\"line\":{\"color\":\"white\",\"width\":0.5},\"pattern\":{\"fillmode\":\"overlay\",\"size\":10,\"solidity\":0.2}},\"type\":\"bar\"}],\"carpet\":[{\"aaxis\":{\"endlinecolor\":\"#2a3f5f\",\"gridcolor\":\"#C8D4E3\",\"linecolor\":\"#C8D4E3\",\"minorgridcolor\":\"#C8D4E3\",\"startlinecolor\":\"#2a3f5f\"},\"baxis\":{\"endlinecolor\":\"#2a3f5f\",\"gridcolor\":\"#C8D4E3\",\"linecolor\":\"#C8D4E3\",\"minorgridcolor\":\"#C8D4E3\",\"startlinecolor\":\"#2a3f5f\"},\"type\":\"carpet\"}],\"choropleth\":[{\"colorbar\":{\"outlinewidth\":0,\"ticks\":\"\"},\"type\":\"choropleth\"}],\"contourcarpet\":[{\"colorbar\":{\"outlinewidth\":0,\"ticks\":\"\"},\"type\":\"contourcarpet\"}],\"contour\":[{\"colorbar\":{\"outlinewidth\":0,\"ticks\":\"\"},\"colorscale\":[[0.0,\"#0d0887\"],[0.1111111111111111,\"#46039f\"],[0.2222222222222222,\"#7201a8\"],[0.3333333333333333,\"#9c179e\"],[0.4444444444444444,\"#bd3786\"],[0.5555555555555556,\"#d8576b\"],[0.6666666666666666,\"#ed7953\"],[0.7777777777777778,\"#fb9f3a\"],[0.8888888888888888,\"#fdca26\"],[1.0,\"#f0f921\"]],\"type\":\"contour\"}],\"heatmap\":[{\"colorbar\":{\"outlinewidth\":0,\"ticks\":\"\"},\"colorscale\":[[0.0,\"#0d0887\"],[0.1111111111111111,\"#46039f\"],[0.2222222222222222,\"#7201a8\"],[0.3333333333333333,\"#9c179e\"],[0.4444444444444444,\"#bd3786\"],[0.5555555555555556,\"#d8576b\"],[0.6666666666666666,\"#ed7953\"],[0.7777777777777778,\"#fb9f3a\"],[0.8888888888888888,\"#fdca26\"],[1.0,\"#f0f921\"]],\"type\":\"heatmap\"}],\"histogram2dcontour\":[{\"colorbar\":{\"outlinewidth\":0,\"ticks\":\"\"},\"colorscale\":[[0.0,\"#0d0887\"],[0.1111111111111111,\"#46039f\"],[0.2222222222222222,\"#7201a8\"],[0.3333333333333333,\"#9c179e\"],[0.4444444444444444,\"#bd3786\"],[0.5555555555555556,\"#d8576b\"],[0.6666666666666666,\"#ed7953\"],[0.7777777777777778,\"#fb9f3a\"],[0.8888888888888888,\"#fdca26\"],[1.0,\"#f0f921\"]],\"type\":\"histogram2dcontour\"}],\"histogram2d\":[{\"colorbar\":{\"outlinewidth\":0,\"ticks\":\"\"},\"colorscale\":[[0.0,\"#0d0887\"],[0.1111111111111111,\"#46039f\"],[0.2222222222222222,\"#7201a8\"],[0.3333333333333333,\"#9c179e\"],[0.4444444444444444,\"#bd3786\"],[0.5555555555555556,\"#d8576b\"],[0.6666666666666666,\"#ed7953\"],[0.7777777777777778,\"#fb9f3a\"],[0.8888888888888888,\"#fdca26\"],[1.0,\"#f0f921\"]],\"type\":\"histogram2d\"}],\"histogram\":[{\"marker\":{\"pattern\":{\"fillmode\":\"overlay\",\"size\":10,\"solidity\":0.2}},\"type\":\"histogram\"}],\"mesh3d\":[{\"colorbar\":{\"outlinewidth\":0,\"ticks\":\"\"},\"type\":\"mesh3d\"}],\"parcoords\":[{\"line\":{\"colorbar\":{\"outlinewidth\":0,\"ticks\":\"\"}},\"type\":\"parcoords\"}],\"pie\":[{\"automargin\":true,\"type\":\"pie\"}],\"scatter3d\":[{\"line\":{\"colorbar\":{\"outlinewidth\":0,\"ticks\":\"\"}},\"marker\":{\"colorbar\":{\"outlinewidth\":0,\"ticks\":\"\"}},\"type\":\"scatter3d\"}],\"scattercarpet\":[{\"marker\":{\"colorbar\":{\"outlinewidth\":0,\"ticks\":\"\"}},\"type\":\"scattercarpet\"}],\"scattergeo\":[{\"marker\":{\"colorbar\":{\"outlinewidth\":0,\"ticks\":\"\"}},\"type\":\"scattergeo\"}],\"scattergl\":[{\"marker\":{\"colorbar\":{\"outlinewidth\":0,\"ticks\":\"\"}},\"type\":\"scattergl\"}],\"scattermapbox\":[{\"marker\":{\"colorbar\":{\"outlinewidth\":0,\"ticks\":\"\"}},\"type\":\"scattermapbox\"}],\"scattermap\":[{\"marker\":{\"colorbar\":{\"outlinewidth\":0,\"ticks\":\"\"}},\"type\":\"scattermap\"}],\"scatterpolargl\":[{\"marker\":{\"colorbar\":{\"outlinewidth\":0,\"ticks\":\"\"}},\"type\":\"scatterpolargl\"}],\"scatterpolar\":[{\"marker\":{\"colorbar\":{\"outlinewidth\":0,\"ticks\":\"\"}},\"type\":\"scatterpolar\"}],\"scatter\":[{\"fillpattern\":{\"fillmode\":\"overlay\",\"size\":10,\"solidity\":0.2},\"type\":\"scatter\"}],\"scatterternary\":[{\"marker\":{\"colorbar\":{\"outlinewidth\":0,\"ticks\":\"\"}},\"type\":\"scatterternary\"}],\"surface\":[{\"colorbar\":{\"outlinewidth\":0,\"ticks\":\"\"},\"colorscale\":[[0.0,\"#0d0887\"],[0.1111111111111111,\"#46039f\"],[0.2222222222222222,\"#7201a8\"],[0.3333333333333333,\"#9c179e\"],[0.4444444444444444,\"#bd3786\"],[0.5555555555555556,\"#d8576b\"],[0.6666666666666666,\"#ed7953\"],[0.7777777777777778,\"#fb9f3a\"],[0.8888888888888888,\"#fdca26\"],[1.0,\"#f0f921\"]],\"type\":\"surface\"}],\"table\":[{\"cells\":{\"fill\":{\"color\":\"#EBF0F8\"},\"line\":{\"color\":\"white\"}},\"header\":{\"fill\":{\"color\":\"#C8D4E3\"},\"line\":{\"color\":\"white\"}},\"type\":\"table\"}]},\"layout\":{\"annotationdefaults\":{\"arrowcolor\":\"#2a3f5f\",\"arrowhead\":0,\"arrowwidth\":1},\"autotypenumbers\":\"strict\",\"coloraxis\":{\"colorbar\":{\"outlinewidth\":0,\"ticks\":\"\"}},\"colorscale\":{\"diverging\":[[0,\"#8e0152\"],[0.1,\"#c51b7d\"],[0.2,\"#de77ae\"],[0.3,\"#f1b6da\"],[0.4,\"#fde0ef\"],[0.5,\"#f7f7f7\"],[0.6,\"#e6f5d0\"],[0.7,\"#b8e186\"],[0.8,\"#7fbc41\"],[0.9,\"#4d9221\"],[1,\"#276419\"]],\"sequential\":[[0.0,\"#0d0887\"],[0.1111111111111111,\"#46039f\"],[0.2222222222222222,\"#7201a8\"],[0.3333333333333333,\"#9c179e\"],[0.4444444444444444,\"#bd3786\"],[0.5555555555555556,\"#d8576b\"],[0.6666666666666666,\"#ed7953\"],[0.7777777777777778,\"#fb9f3a\"],[0.8888888888888888,\"#fdca26\"],[1.0,\"#f0f921\"]],\"sequentialminus\":[[0.0,\"#0d0887\"],[0.1111111111111111,\"#46039f\"],[0.2222222222222222,\"#7201a8\"],[0.3333333333333333,\"#9c179e\"],[0.4444444444444444,\"#bd3786\"],[0.5555555555555556,\"#d8576b\"],[0.6666666666666666,\"#ed7953\"],[0.7777777777777778,\"#fb9f3a\"],[0.8888888888888888,\"#fdca26\"],[1.0,\"#f0f921\"]]},\"colorway\":[\"#636efa\",\"#EF553B\",\"#00cc96\",\"#ab63fa\",\"#FFA15A\",\"#19d3f3\",\"#FF6692\",\"#B6E880\",\"#FF97FF\",\"#FECB52\"],\"font\":{\"color\":\"#2a3f5f\"},\"geo\":{\"bgcolor\":\"white\",\"lakecolor\":\"white\",\"landcolor\":\"white\",\"showlakes\":true,\"showland\":true,\"subunitcolor\":\"#C8D4E3\"},\"hoverlabel\":{\"align\":\"left\"},\"hovermode\":\"closest\",\"mapbox\":{\"style\":\"light\"},\"paper_bgcolor\":\"white\",\"plot_bgcolor\":\"white\",\"polar\":{\"angularaxis\":{\"gridcolor\":\"#EBF0F8\",\"linecolor\":\"#EBF0F8\",\"ticks\":\"\"},\"bgcolor\":\"white\",\"radialaxis\":{\"gridcolor\":\"#EBF0F8\",\"linecolor\":\"#EBF0F8\",\"ticks\":\"\"}},\"scene\":{\"xaxis\":{\"backgroundcolor\":\"white\",\"gridcolor\":\"#DFE8F3\",\"gridwidth\":2,\"linecolor\":\"#EBF0F8\",\"showbackground\":true,\"ticks\":\"\",\"zerolinecolor\":\"#EBF0F8\"},\"yaxis\":{\"backgroundcolor\":\"white\",\"gridcolor\":\"#DFE8F3\",\"gridwidth\":2,\"linecolor\":\"#EBF0F8\",\"showbackground\":true,\"ticks\":\"\",\"zerolinecolor\":\"#EBF0F8\"},\"zaxis\":{\"backgroundcolor\":\"white\",\"gridcolor\":\"#DFE8F3\",\"gridwidth\":2,\"linecolor\":\"#EBF0F8\",\"showbackground\":true,\"ticks\":\"\",\"zerolinecolor\":\"#EBF0F8\"}},\"shapedefaults\":{\"line\":{\"color\":\"#2a3f5f\"}},\"ternary\":{\"aaxis\":{\"gridcolor\":\"#DFE8F3\",\"linecolor\":\"#A2B1C6\",\"ticks\":\"\"},\"baxis\":{\"gridcolor\":\"#DFE8F3\",\"linecolor\":\"#A2B1C6\",\"ticks\":\"\"},\"bgcolor\":\"white\",\"caxis\":{\"gridcolor\":\"#DFE8F3\",\"linecolor\":\"#A2B1C6\",\"ticks\":\"\"}},\"title\":{\"x\":0.05},\"xaxis\":{\"automargin\":true,\"gridcolor\":\"#EBF0F8\",\"linecolor\":\"#EBF0F8\",\"ticks\":\"\",\"title\":{\"standoff\":15},\"zerolinecolor\":\"#EBF0F8\",\"zerolinewidth\":2},\"yaxis\":{\"automargin\":true,\"gridcolor\":\"#EBF0F8\",\"linecolor\":\"#EBF0F8\",\"ticks\":\"\",\"title\":{\"standoff\":15},\"zerolinecolor\":\"#EBF0F8\",\"zerolinewidth\":2}}},\"xaxis\":{\"anchor\":\"y\",\"domain\":[0.0,1.0],\"title\":{\"text\":\"Week\"},\"dtick\":\"M1\",\"tickformat\":\"%b %Y\",\"tickangle\":-45},\"yaxis\":{\"anchor\":\"x\",\"domain\":[0.0,1.0],\"title\":{\"text\":\"Number of Tweets\"}},\"legend\":{\"title\":{\"text\":\"Sentiment\"},\"tracegroupgap\":0},\"title\":{\"text\":\"Weekly Tweet Sentiment Over Time\"}},                        {\"responsive\": true}                    ).then(function(){\n",
       "                            \n",
       "var gd = document.getElementById('2a900d57-ac13-48ba-a7fe-63ab23625142');\n",
       "var x = new MutationObserver(function (mutations, observer) {{\n",
       "        var display = window.getComputedStyle(gd).display;\n",
       "        if (!display || display === 'none') {{\n",
       "            console.log([gd, 'removed!']);\n",
       "            Plotly.purge(gd);\n",
       "            observer.disconnect();\n",
       "        }}\n",
       "}});\n",
       "\n",
       "// Listen for the removal of the full notebook cells\n",
       "var notebookContainer = gd.closest('#notebook-container');\n",
       "if (notebookContainer) {{\n",
       "    x.observe(notebookContainer, {childList: true});\n",
       "}}\n",
       "\n",
       "// Listen for the clearing of the current output cell\n",
       "var outputEl = gd.closest('.output');\n",
       "if (outputEl) {{\n",
       "    x.observe(outputEl, {childList: true});\n",
       "}}\n",
       "\n",
       "                        })                };            </script>        </div>"
      ]
     },
     "metadata": {},
     "output_type": "display_data"
    }
   ],
   "source": [
    "import plotly.express as px\n",
    "\n",
    "sentiment_cols = ['positive', 'neutral', 'negative']\n",
    "cbf = ['#0072B2','#E69F00','#D35FB7']\n",
    "\n",
    "fig = px.area(\n",
    "    weekly_three,\n",
    "    x='created_at',\n",
    "    y=sentiment_cols,\n",
    "    title='Weekly Tweet Sentiment Over Time',\n",
    "    labels={'value':'Tweet Count','created_at':'Week'},\n",
    "    template='plotly_white',\n",
    "    color_discrete_sequence=cbf\n",
    ")\n",
    "\n",
    "fig.update_xaxes(dtick=\"M1\", tickformat=\"%b %Y\", tickangle=-45)\n",
    "fig.update_layout(xaxis_title='Week', yaxis_title='Number of Tweets', legend_title='Sentiment')\n",
    "fig.show()\n"
   ]
  },
  {
   "cell_type": "code",
   "execution_count": 10,
   "id": "c3175cd8",
   "metadata": {},
   "outputs": [
    {
     "name": "stdout",
     "output_type": "stream",
     "text": [
      "Loaded rows: 6094135\n"
     ]
    },
    {
     "data": {
      "text/html": [
       "<div>\n",
       "<style scoped>\n",
       "    .dataframe tbody tr th:only-of-type {\n",
       "        vertical-align: middle;\n",
       "    }\n",
       "\n",
       "    .dataframe tbody tr th {\n",
       "        vertical-align: top;\n",
       "    }\n",
       "\n",
       "    .dataframe thead th {\n",
       "        text-align: right;\n",
       "    }\n",
       "</style>\n",
       "<table border=\"1\" class=\"dataframe\">\n",
       "  <thead>\n",
       "    <tr style=\"text-align: right;\">\n",
       "      <th></th>\n",
       "      <th>created_at</th>\n",
       "      <th>senti_raw_tabularis</th>\n",
       "      <th>text</th>\n",
       "      <th>label</th>\n",
       "    </tr>\n",
       "  </thead>\n",
       "  <tbody>\n",
       "    <tr>\n",
       "      <th>0</th>\n",
       "      <td>2019-06-12 21:04:49</td>\n",
       "      <td>{'label': 'Very Negative', 'score': 0.43800345...</td>\n",
       "      <td>@Ryanair why am I getting an email telling me ...</td>\n",
       "      <td>Very Negative</td>\n",
       "    </tr>\n",
       "    <tr>\n",
       "      <th>1</th>\n",
       "      <td>2019-06-12 21:06:20</td>\n",
       "      <td>{'label': 'Very Positive', 'score': 0.64106345...</td>\n",
       "      <td>Top news today: @BLQairport: 'Buona serata dal...</td>\n",
       "      <td>Very Positive</td>\n",
       "    </tr>\n",
       "    <tr>\n",
       "      <th>2</th>\n",
       "      <td>2019-06-12 21:06:43</td>\n",
       "      <td>{'label': 'Very Negative', 'score': 0.58267146...</td>\n",
       "      <td>@AmericanAir HEY, why charge for premium seats...</td>\n",
       "      <td>Very Negative</td>\n",
       "    </tr>\n",
       "    <tr>\n",
       "      <th>3</th>\n",
       "      <td>2019-06-12 21:10:06</td>\n",
       "      <td>{'label': 'Very Positive', 'score': 0.51672941...</td>\n",
       "      <td>RT @BillOReilly: Way to go @Delta.  I will rem...</td>\n",
       "      <td>Very Positive</td>\n",
       "    </tr>\n",
       "    <tr>\n",
       "      <th>4</th>\n",
       "      <td>2019-06-12 21:25:51</td>\n",
       "      <td>{'label': 'Neutral', 'score': 0.5808106660842896}</td>\n",
       "      <td>RT @SanguDelle: 3 white guys ahead of me, no q...</td>\n",
       "      <td>Neutral</td>\n",
       "    </tr>\n",
       "  </tbody>\n",
       "</table>\n",
       "</div>"
      ],
      "text/plain": [
       "           created_at                                senti_raw_tabularis  \\\n",
       "0 2019-06-12 21:04:49  {'label': 'Very Negative', 'score': 0.43800345...   \n",
       "1 2019-06-12 21:06:20  {'label': 'Very Positive', 'score': 0.64106345...   \n",
       "2 2019-06-12 21:06:43  {'label': 'Very Negative', 'score': 0.58267146...   \n",
       "3 2019-06-12 21:10:06  {'label': 'Very Positive', 'score': 0.51672941...   \n",
       "4 2019-06-12 21:25:51  {'label': 'Neutral', 'score': 0.5808106660842896}   \n",
       "\n",
       "                                                text          label  \n",
       "0  @Ryanair why am I getting an email telling me ...  Very Negative  \n",
       "1  Top news today: @BLQairport: 'Buona serata dal...  Very Positive  \n",
       "2  @AmericanAir HEY, why charge for premium seats...  Very Negative  \n",
       "3  RT @BillOReilly: Way to go @Delta.  I will rem...  Very Positive  \n",
       "4  RT @SanguDelle: 3 white guys ahead of me, no q...        Neutral  "
      ]
     },
     "execution_count": 10,
     "metadata": {},
     "output_type": "execute_result"
    }
   ],
   "source": [
    "import pandas as pd\n",
    "import ast\n",
    "import psycopg2\n",
    "\n",
    "conn = psycopg2.connect(\n",
    "    dbname=\"DataChallenge\",\n",
    "    user=\"dbadmin\",\n",
    "    password=\"BZ6uHRGxki6a7qD\",\n",
    "    host=\"dcpostgres.postgres.database.azure.com\",\n",
    "    port=\"5432\",\n",
    "    sslmode=\"require\"\n",
    ")\n",
    "\n",
    "query = \"\"\"\n",
    "SELECT\n",
    "  created_at,\n",
    "  senti_raw_tabularis,\n",
    "  text\n",
    "FROM tweets\n",
    "WHERE\n",
    "  senti_raw_tabularis IS NOT NULL\n",
    "  AND created_at            IS NOT NULL;\n",
    "\"\"\"\n",
    "\n",
    "df_full = pd.read_sql_query(query, conn)\n",
    "\n",
    "df_full['created_at'] = pd.to_datetime(df_full['created_at'])\n",
    "df_full['label']      = df_full['senti_raw_tabularis'].apply(lambda x: ast.literal_eval(x)['label'])\n",
    "\n"
   ]
  },
  {
   "cell_type": "code",
   "execution_count": 11,
   "id": "e011158c",
   "metadata": {},
   "outputs": [
    {
     "name": "stdout",
     "output_type": "stream",
     "text": [
      "Total @KLM‐mention tweets: 235871\n"
     ]
    },
    {
     "data": {
      "text/html": [
       "<div>\n",
       "<style scoped>\n",
       "    .dataframe tbody tr th:only-of-type {\n",
       "        vertical-align: middle;\n",
       "    }\n",
       "\n",
       "    .dataframe tbody tr th {\n",
       "        vertical-align: top;\n",
       "    }\n",
       "\n",
       "    .dataframe thead th {\n",
       "        text-align: right;\n",
       "    }\n",
       "</style>\n",
       "<table border=\"1\" class=\"dataframe\">\n",
       "  <thead>\n",
       "    <tr style=\"text-align: right;\">\n",
       "      <th></th>\n",
       "      <th>created_at</th>\n",
       "      <th>label</th>\n",
       "      <th>text</th>\n",
       "    </tr>\n",
       "  </thead>\n",
       "  <tbody>\n",
       "    <tr>\n",
       "      <th>101</th>\n",
       "      <td>2019-06-13 09:59:42</td>\n",
       "      <td>Very Negative</td>\n",
       "      <td>RT @KLM: Honk honk, meep meep, tuut tuut! 📢 Do...</td>\n",
       "    </tr>\n",
       "    <tr>\n",
       "      <th>122</th>\n",
       "      <td>2019-06-13 11:11:07</td>\n",
       "      <td>Very Negative</td>\n",
       "      <td>RT @daniyalyos: So, @EtihadAirways @EtihadHelp...</td>\n",
       "    </tr>\n",
       "    <tr>\n",
       "      <th>145</th>\n",
       "      <td>2019-06-13 12:46:06</td>\n",
       "      <td>Very Negative</td>\n",
       "      <td>.@KLM_UK Your online costumer service is terri...</td>\n",
       "    </tr>\n",
       "    <tr>\n",
       "      <th>200</th>\n",
       "      <td>2019-06-13 17:55:28</td>\n",
       "      <td>Very Positive</td>\n",
       "      <td>@WinnyfredDenise @KLM @Schiphol De piloot heef...</td>\n",
       "    </tr>\n",
       "    <tr>\n",
       "      <th>210</th>\n",
       "      <td>2019-06-13 18:45:40</td>\n",
       "      <td>Negative</td>\n",
       "      <td>@KLM so what’s the issue this week with 21:05 ...</td>\n",
       "    </tr>\n",
       "  </tbody>\n",
       "</table>\n",
       "</div>"
      ],
      "text/plain": [
       "             created_at          label  \\\n",
       "101 2019-06-13 09:59:42  Very Negative   \n",
       "122 2019-06-13 11:11:07  Very Negative   \n",
       "145 2019-06-13 12:46:06  Very Negative   \n",
       "200 2019-06-13 17:55:28  Very Positive   \n",
       "210 2019-06-13 18:45:40       Negative   \n",
       "\n",
       "                                                  text  \n",
       "101  RT @KLM: Honk honk, meep meep, tuut tuut! 📢 Do...  \n",
       "122  RT @daniyalyos: So, @EtihadAirways @EtihadHelp...  \n",
       "145  .@KLM_UK Your online costumer service is terri...  \n",
       "200  @WinnyfredDenise @KLM @Schiphol De piloot heef...  \n",
       "210  @KLM so what’s the issue this week with 21:05 ...  "
      ]
     },
     "execution_count": 11,
     "metadata": {},
     "output_type": "execute_result"
    }
   ],
   "source": [
    "df_klm = df_full[df_full['text'].str.contains('@KLM', case=False, na=False)].copy()\n"
   ]
  },
  {
   "cell_type": "code",
   "execution_count": 12,
   "id": "d001a2a5",
   "metadata": {},
   "outputs": [
    {
     "name": "stdout",
     "output_type": "stream",
     "text": [
      "label created_at  Negative  Neutral  Positive  Very Negative  Very Positive\n",
      "0     2019-05-26        90      644        81            316            435\n",
      "1     2019-06-02       230     1272       158            645           1174\n",
      "2     2019-06-09       268     1546       199            840           1544\n",
      "3     2019-06-16       283     1218       169            758           1982\n",
      "4     2019-06-23       280     1584       189            737           1509\n",
      "\n",
      "Sentiment columns: ['Negative', 'Neutral', 'Positive', 'Very Negative', 'Very Positive']\n"
     ]
    }
   ],
   "source": [
    "import pandas as pd\n",
    "\n",
    "weekly_klm = (\n",
    "    df_klm\n",
    "    .groupby([pd.Grouper(key='created_at', freq='W'), 'label'])\n",
    "    .size()\n",
    "    .reset_index(name='count')\n",
    ")\n",
    "\n",
    "weekly_klm_pivot = (\n",
    "    weekly_klm\n",
    "    .pivot(index='created_at', columns='label', values='count')\n",
    "    .fillna(0)\n",
    "    .reset_index()\n",
    ")\n"
   ]
  },
  {
   "cell_type": "code",
   "execution_count": 15,
   "id": "0712fe37",
   "metadata": {},
   "outputs": [],
   "source": [
    "import plotly.express as px\n",
    "\n",
    "klm_sentiments = [c for c in weekly_klm_pivot.columns if c != 'created_at']\n",
    "\n",
    "weekly_three_klm = weekly_klm_pivot.copy()\n",
    "\n",
    "weekly_three_klm['positive'] = (\n",
    "    weekly_three_klm['Very Positive'] +\n",
    "    weekly_three_klm['Positive']\n",
    ")\n",
    "\n",
    "weekly_three_klm['negative'] = (\n",
    "    weekly_three_klm['Very Negative'] +\n",
    "    weekly_three_klm['Negative']\n",
    ")\n",
    "\n",
    "weekly_three_klm['neutral'] = weekly_three_klm['Neutral']\n",
    "\n",
    "weekly_three_klm = weekly_three_klm[['created_at', 'positive', 'neutral', 'negative']]\n",
    "\n"
   ]
  },
  {
   "cell_type": "code",
   "execution_count": 17,
   "id": "02d7ec76",
   "metadata": {},
   "outputs": [
    {
     "data": {
      "text/html": [
       "<div>            <script src=\"https://cdnjs.cloudflare.com/ajax/libs/mathjax/2.7.5/MathJax.js?config=TeX-AMS-MML_SVG\"></script><script type=\"text/javascript\">if (window.MathJax && window.MathJax.Hub && window.MathJax.Hub.Config) {window.MathJax.Hub.Config({SVG: {font: \"STIX-Web\"}});}</script>                <script type=\"text/javascript\">window.PlotlyConfig = {MathJaxConfig: 'local'};</script>\n",
       "        <script charset=\"utf-8\" src=\"https://cdn.plot.ly/plotly-3.0.1.min.js\"></script>                <div id=\"023fae57-0ac4-4fe7-9aba-c824ef09182e\" class=\"plotly-graph-div\" style=\"height:525px; width:100%;\"></div>            <script type=\"text/javascript\">                window.PLOTLYENV=window.PLOTLYENV || {};                                if (document.getElementById(\"023fae57-0ac4-4fe7-9aba-c824ef09182e\")) {                    Plotly.newPlot(                        \"023fae57-0ac4-4fe7-9aba-c824ef09182e\",                        [{\"fillpattern\":{\"shape\":\"\"},\"hovertemplate\":\"variable=positive\\u003cbr\\u003eWeek=%{x}\\u003cbr\\u003eTweet Count=%{y}\\u003cextra\\u003e\\u003c\\u002fextra\\u003e\",\"legendgroup\":\"positive\",\"line\":{\"color\":\"#0072B2\"},\"marker\":{\"symbol\":\"circle\"},\"mode\":\"lines\",\"name\":\"positive\",\"orientation\":\"v\",\"showlegend\":true,\"stackgroup\":\"1\",\"x\":[\"2019-05-26T00:00:00.000000000\",\"2019-06-02T00:00:00.000000000\",\"2019-06-09T00:00:00.000000000\",\"2019-06-16T00:00:00.000000000\",\"2019-06-23T00:00:00.000000000\",\"2019-06-30T00:00:00.000000000\",\"2019-07-07T00:00:00.000000000\",\"2019-07-14T00:00:00.000000000\",\"2019-07-21T00:00:00.000000000\",\"2019-07-28T00:00:00.000000000\",\"2019-08-04T00:00:00.000000000\",\"2019-08-11T00:00:00.000000000\",\"2019-08-18T00:00:00.000000000\",\"2019-08-25T00:00:00.000000000\",\"2019-09-01T00:00:00.000000000\",\"2019-09-08T00:00:00.000000000\",\"2019-09-15T00:00:00.000000000\",\"2019-09-22T00:00:00.000000000\",\"2019-09-29T00:00:00.000000000\",\"2019-10-06T00:00:00.000000000\",\"2019-10-27T00:00:00.000000000\",\"2019-11-03T00:00:00.000000000\",\"2019-11-10T00:00:00.000000000\",\"2019-11-17T00:00:00.000000000\",\"2019-11-24T00:00:00.000000000\",\"2019-12-01T00:00:00.000000000\",\"2019-12-08T00:00:00.000000000\",\"2019-12-15T00:00:00.000000000\",\"2019-12-22T00:00:00.000000000\",\"2019-12-29T00:00:00.000000000\",\"2020-01-05T00:00:00.000000000\",\"2020-01-12T00:00:00.000000000\",\"2020-01-19T00:00:00.000000000\",\"2020-01-26T00:00:00.000000000\",\"2020-02-02T00:00:00.000000000\",\"2020-02-09T00:00:00.000000000\",\"2020-02-16T00:00:00.000000000\",\"2020-02-23T00:00:00.000000000\",\"2020-03-01T00:00:00.000000000\",\"2020-03-08T00:00:00.000000000\",\"2020-03-15T00:00:00.000000000\",\"2020-03-22T00:00:00.000000000\",\"2020-03-29T00:00:00.000000000\",\"2020-04-05T00:00:00.000000000\"],\"xaxis\":\"x\",\"y\":{\"dtype\":\"i2\",\"bdata\":\"BAI0Bc8GZwiiBpUMDRhTBUwYnweaBvIDegKRAI8FwwV7BQIF7wRLAmUDfQQTBP4D4QW3B8oEFgSmD9ED6QOGA8EDHgRvBDgI6STlBUIELAVcDIAQFg0QAg==\"},\"yaxis\":\"y\",\"type\":\"scatter\"},{\"fillpattern\":{\"shape\":\"\"},\"hovertemplate\":\"variable=neutral\\u003cbr\\u003eWeek=%{x}\\u003cbr\\u003eTweet Count=%{y}\\u003cextra\\u003e\\u003c\\u002fextra\\u003e\",\"legendgroup\":\"neutral\",\"line\":{\"color\":\"#E69F00\"},\"marker\":{\"symbol\":\"circle\"},\"mode\":\"lines\",\"name\":\"neutral\",\"orientation\":\"v\",\"showlegend\":true,\"stackgroup\":\"1\",\"x\":[\"2019-05-26T00:00:00.000000000\",\"2019-06-02T00:00:00.000000000\",\"2019-06-09T00:00:00.000000000\",\"2019-06-16T00:00:00.000000000\",\"2019-06-23T00:00:00.000000000\",\"2019-06-30T00:00:00.000000000\",\"2019-07-07T00:00:00.000000000\",\"2019-07-14T00:00:00.000000000\",\"2019-07-21T00:00:00.000000000\",\"2019-07-28T00:00:00.000000000\",\"2019-08-04T00:00:00.000000000\",\"2019-08-11T00:00:00.000000000\",\"2019-08-18T00:00:00.000000000\",\"2019-08-25T00:00:00.000000000\",\"2019-09-01T00:00:00.000000000\",\"2019-09-08T00:00:00.000000000\",\"2019-09-15T00:00:00.000000000\",\"2019-09-22T00:00:00.000000000\",\"2019-09-29T00:00:00.000000000\",\"2019-10-06T00:00:00.000000000\",\"2019-10-27T00:00:00.000000000\",\"2019-11-03T00:00:00.000000000\",\"2019-11-10T00:00:00.000000000\",\"2019-11-17T00:00:00.000000000\",\"2019-11-24T00:00:00.000000000\",\"2019-12-01T00:00:00.000000000\",\"2019-12-08T00:00:00.000000000\",\"2019-12-15T00:00:00.000000000\",\"2019-12-22T00:00:00.000000000\",\"2019-12-29T00:00:00.000000000\",\"2020-01-05T00:00:00.000000000\",\"2020-01-12T00:00:00.000000000\",\"2020-01-19T00:00:00.000000000\",\"2020-01-26T00:00:00.000000000\",\"2020-02-02T00:00:00.000000000\",\"2020-02-09T00:00:00.000000000\",\"2020-02-16T00:00:00.000000000\",\"2020-02-23T00:00:00.000000000\",\"2020-03-01T00:00:00.000000000\",\"2020-03-08T00:00:00.000000000\",\"2020-03-15T00:00:00.000000000\",\"2020-03-22T00:00:00.000000000\",\"2020-03-29T00:00:00.000000000\",\"2020-04-05T00:00:00.000000000\"],\"xaxis\":\"x\",\"y\":{\"dtype\":\"i2\",\"bdata\":\"hAL4BAoGwgQwBq4HTBERBmkp6AmrBQMF\\u002fwLNADIFXAcSB5oGNAV1AjsD0gNXBOIEWAVlBlUFzQSgBSUDyQI4BLkEbgR0BWUGvQouBxAGpAfrFLsU5w7zAQ==\"},\"yaxis\":\"y\",\"type\":\"scatter\"},{\"fillpattern\":{\"shape\":\"\"},\"hovertemplate\":\"variable=negative\\u003cbr\\u003eWeek=%{x}\\u003cbr\\u003eTweet Count=%{y}\\u003cextra\\u003e\\u003c\\u002fextra\\u003e\",\"legendgroup\":\"negative\",\"line\":{\"color\":\"#D35FB7\"},\"marker\":{\"symbol\":\"circle\"},\"mode\":\"lines\",\"name\":\"negative\",\"orientation\":\"v\",\"showlegend\":true,\"stackgroup\":\"1\",\"x\":[\"2019-05-26T00:00:00.000000000\",\"2019-06-02T00:00:00.000000000\",\"2019-06-09T00:00:00.000000000\",\"2019-06-16T00:00:00.000000000\",\"2019-06-23T00:00:00.000000000\",\"2019-06-30T00:00:00.000000000\",\"2019-07-07T00:00:00.000000000\",\"2019-07-14T00:00:00.000000000\",\"2019-07-21T00:00:00.000000000\",\"2019-07-28T00:00:00.000000000\",\"2019-08-04T00:00:00.000000000\",\"2019-08-11T00:00:00.000000000\",\"2019-08-18T00:00:00.000000000\",\"2019-08-25T00:00:00.000000000\",\"2019-09-01T00:00:00.000000000\",\"2019-09-08T00:00:00.000000000\",\"2019-09-15T00:00:00.000000000\",\"2019-09-22T00:00:00.000000000\",\"2019-09-29T00:00:00.000000000\",\"2019-10-06T00:00:00.000000000\",\"2019-10-27T00:00:00.000000000\",\"2019-11-03T00:00:00.000000000\",\"2019-11-10T00:00:00.000000000\",\"2019-11-17T00:00:00.000000000\",\"2019-11-24T00:00:00.000000000\",\"2019-12-01T00:00:00.000000000\",\"2019-12-08T00:00:00.000000000\",\"2019-12-15T00:00:00.000000000\",\"2019-12-22T00:00:00.000000000\",\"2019-12-29T00:00:00.000000000\",\"2020-01-05T00:00:00.000000000\",\"2020-01-12T00:00:00.000000000\",\"2020-01-19T00:00:00.000000000\",\"2020-01-26T00:00:00.000000000\",\"2020-02-02T00:00:00.000000000\",\"2020-02-09T00:00:00.000000000\",\"2020-02-16T00:00:00.000000000\",\"2020-02-23T00:00:00.000000000\",\"2020-03-01T00:00:00.000000000\",\"2020-03-08T00:00:00.000000000\",\"2020-03-15T00:00:00.000000000\",\"2020-03-22T00:00:00.000000000\",\"2020-03-29T00:00:00.000000000\",\"2020-04-05T00:00:00.000000000\"],\"xaxis\":\"x\",\"y\":{\"dtype\":\"i2\",\"bdata\":\"lgFrA1QEEQT5Ax4GZwtaBdsnnAnWA+gDJQJmAJgEsQUuBd0ELAOZAccC8gLJAr0DmAMXBSUEqAN\\u002fA+8BtAIyA74DiQMyBIIE3g7rBBwEugQbEhMe2wy2Ag==\"},\"yaxis\":\"y\",\"type\":\"scatter\"}],                        {\"template\":{\"data\":{\"barpolar\":[{\"marker\":{\"line\":{\"color\":\"white\",\"width\":0.5},\"pattern\":{\"fillmode\":\"overlay\",\"size\":10,\"solidity\":0.2}},\"type\":\"barpolar\"}],\"bar\":[{\"error_x\":{\"color\":\"#2a3f5f\"},\"error_y\":{\"color\":\"#2a3f5f\"},\"marker\":{\"line\":{\"color\":\"white\",\"width\":0.5},\"pattern\":{\"fillmode\":\"overlay\",\"size\":10,\"solidity\":0.2}},\"type\":\"bar\"}],\"carpet\":[{\"aaxis\":{\"endlinecolor\":\"#2a3f5f\",\"gridcolor\":\"#C8D4E3\",\"linecolor\":\"#C8D4E3\",\"minorgridcolor\":\"#C8D4E3\",\"startlinecolor\":\"#2a3f5f\"},\"baxis\":{\"endlinecolor\":\"#2a3f5f\",\"gridcolor\":\"#C8D4E3\",\"linecolor\":\"#C8D4E3\",\"minorgridcolor\":\"#C8D4E3\",\"startlinecolor\":\"#2a3f5f\"},\"type\":\"carpet\"}],\"choropleth\":[{\"colorbar\":{\"outlinewidth\":0,\"ticks\":\"\"},\"type\":\"choropleth\"}],\"contourcarpet\":[{\"colorbar\":{\"outlinewidth\":0,\"ticks\":\"\"},\"type\":\"contourcarpet\"}],\"contour\":[{\"colorbar\":{\"outlinewidth\":0,\"ticks\":\"\"},\"colorscale\":[[0.0,\"#0d0887\"],[0.1111111111111111,\"#46039f\"],[0.2222222222222222,\"#7201a8\"],[0.3333333333333333,\"#9c179e\"],[0.4444444444444444,\"#bd3786\"],[0.5555555555555556,\"#d8576b\"],[0.6666666666666666,\"#ed7953\"],[0.7777777777777778,\"#fb9f3a\"],[0.8888888888888888,\"#fdca26\"],[1.0,\"#f0f921\"]],\"type\":\"contour\"}],\"heatmap\":[{\"colorbar\":{\"outlinewidth\":0,\"ticks\":\"\"},\"colorscale\":[[0.0,\"#0d0887\"],[0.1111111111111111,\"#46039f\"],[0.2222222222222222,\"#7201a8\"],[0.3333333333333333,\"#9c179e\"],[0.4444444444444444,\"#bd3786\"],[0.5555555555555556,\"#d8576b\"],[0.6666666666666666,\"#ed7953\"],[0.7777777777777778,\"#fb9f3a\"],[0.8888888888888888,\"#fdca26\"],[1.0,\"#f0f921\"]],\"type\":\"heatmap\"}],\"histogram2dcontour\":[{\"colorbar\":{\"outlinewidth\":0,\"ticks\":\"\"},\"colorscale\":[[0.0,\"#0d0887\"],[0.1111111111111111,\"#46039f\"],[0.2222222222222222,\"#7201a8\"],[0.3333333333333333,\"#9c179e\"],[0.4444444444444444,\"#bd3786\"],[0.5555555555555556,\"#d8576b\"],[0.6666666666666666,\"#ed7953\"],[0.7777777777777778,\"#fb9f3a\"],[0.8888888888888888,\"#fdca26\"],[1.0,\"#f0f921\"]],\"type\":\"histogram2dcontour\"}],\"histogram2d\":[{\"colorbar\":{\"outlinewidth\":0,\"ticks\":\"\"},\"colorscale\":[[0.0,\"#0d0887\"],[0.1111111111111111,\"#46039f\"],[0.2222222222222222,\"#7201a8\"],[0.3333333333333333,\"#9c179e\"],[0.4444444444444444,\"#bd3786\"],[0.5555555555555556,\"#d8576b\"],[0.6666666666666666,\"#ed7953\"],[0.7777777777777778,\"#fb9f3a\"],[0.8888888888888888,\"#fdca26\"],[1.0,\"#f0f921\"]],\"type\":\"histogram2d\"}],\"histogram\":[{\"marker\":{\"pattern\":{\"fillmode\":\"overlay\",\"size\":10,\"solidity\":0.2}},\"type\":\"histogram\"}],\"mesh3d\":[{\"colorbar\":{\"outlinewidth\":0,\"ticks\":\"\"},\"type\":\"mesh3d\"}],\"parcoords\":[{\"line\":{\"colorbar\":{\"outlinewidth\":0,\"ticks\":\"\"}},\"type\":\"parcoords\"}],\"pie\":[{\"automargin\":true,\"type\":\"pie\"}],\"scatter3d\":[{\"line\":{\"colorbar\":{\"outlinewidth\":0,\"ticks\":\"\"}},\"marker\":{\"colorbar\":{\"outlinewidth\":0,\"ticks\":\"\"}},\"type\":\"scatter3d\"}],\"scattercarpet\":[{\"marker\":{\"colorbar\":{\"outlinewidth\":0,\"ticks\":\"\"}},\"type\":\"scattercarpet\"}],\"scattergeo\":[{\"marker\":{\"colorbar\":{\"outlinewidth\":0,\"ticks\":\"\"}},\"type\":\"scattergeo\"}],\"scattergl\":[{\"marker\":{\"colorbar\":{\"outlinewidth\":0,\"ticks\":\"\"}},\"type\":\"scattergl\"}],\"scattermapbox\":[{\"marker\":{\"colorbar\":{\"outlinewidth\":0,\"ticks\":\"\"}},\"type\":\"scattermapbox\"}],\"scattermap\":[{\"marker\":{\"colorbar\":{\"outlinewidth\":0,\"ticks\":\"\"}},\"type\":\"scattermap\"}],\"scatterpolargl\":[{\"marker\":{\"colorbar\":{\"outlinewidth\":0,\"ticks\":\"\"}},\"type\":\"scatterpolargl\"}],\"scatterpolar\":[{\"marker\":{\"colorbar\":{\"outlinewidth\":0,\"ticks\":\"\"}},\"type\":\"scatterpolar\"}],\"scatter\":[{\"fillpattern\":{\"fillmode\":\"overlay\",\"size\":10,\"solidity\":0.2},\"type\":\"scatter\"}],\"scatterternary\":[{\"marker\":{\"colorbar\":{\"outlinewidth\":0,\"ticks\":\"\"}},\"type\":\"scatterternary\"}],\"surface\":[{\"colorbar\":{\"outlinewidth\":0,\"ticks\":\"\"},\"colorscale\":[[0.0,\"#0d0887\"],[0.1111111111111111,\"#46039f\"],[0.2222222222222222,\"#7201a8\"],[0.3333333333333333,\"#9c179e\"],[0.4444444444444444,\"#bd3786\"],[0.5555555555555556,\"#d8576b\"],[0.6666666666666666,\"#ed7953\"],[0.7777777777777778,\"#fb9f3a\"],[0.8888888888888888,\"#fdca26\"],[1.0,\"#f0f921\"]],\"type\":\"surface\"}],\"table\":[{\"cells\":{\"fill\":{\"color\":\"#EBF0F8\"},\"line\":{\"color\":\"white\"}},\"header\":{\"fill\":{\"color\":\"#C8D4E3\"},\"line\":{\"color\":\"white\"}},\"type\":\"table\"}]},\"layout\":{\"annotationdefaults\":{\"arrowcolor\":\"#2a3f5f\",\"arrowhead\":0,\"arrowwidth\":1},\"autotypenumbers\":\"strict\",\"coloraxis\":{\"colorbar\":{\"outlinewidth\":0,\"ticks\":\"\"}},\"colorscale\":{\"diverging\":[[0,\"#8e0152\"],[0.1,\"#c51b7d\"],[0.2,\"#de77ae\"],[0.3,\"#f1b6da\"],[0.4,\"#fde0ef\"],[0.5,\"#f7f7f7\"],[0.6,\"#e6f5d0\"],[0.7,\"#b8e186\"],[0.8,\"#7fbc41\"],[0.9,\"#4d9221\"],[1,\"#276419\"]],\"sequential\":[[0.0,\"#0d0887\"],[0.1111111111111111,\"#46039f\"],[0.2222222222222222,\"#7201a8\"],[0.3333333333333333,\"#9c179e\"],[0.4444444444444444,\"#bd3786\"],[0.5555555555555556,\"#d8576b\"],[0.6666666666666666,\"#ed7953\"],[0.7777777777777778,\"#fb9f3a\"],[0.8888888888888888,\"#fdca26\"],[1.0,\"#f0f921\"]],\"sequentialminus\":[[0.0,\"#0d0887\"],[0.1111111111111111,\"#46039f\"],[0.2222222222222222,\"#7201a8\"],[0.3333333333333333,\"#9c179e\"],[0.4444444444444444,\"#bd3786\"],[0.5555555555555556,\"#d8576b\"],[0.6666666666666666,\"#ed7953\"],[0.7777777777777778,\"#fb9f3a\"],[0.8888888888888888,\"#fdca26\"],[1.0,\"#f0f921\"]]},\"colorway\":[\"#636efa\",\"#EF553B\",\"#00cc96\",\"#ab63fa\",\"#FFA15A\",\"#19d3f3\",\"#FF6692\",\"#B6E880\",\"#FF97FF\",\"#FECB52\"],\"font\":{\"color\":\"#2a3f5f\"},\"geo\":{\"bgcolor\":\"white\",\"lakecolor\":\"white\",\"landcolor\":\"white\",\"showlakes\":true,\"showland\":true,\"subunitcolor\":\"#C8D4E3\"},\"hoverlabel\":{\"align\":\"left\"},\"hovermode\":\"closest\",\"mapbox\":{\"style\":\"light\"},\"paper_bgcolor\":\"white\",\"plot_bgcolor\":\"white\",\"polar\":{\"angularaxis\":{\"gridcolor\":\"#EBF0F8\",\"linecolor\":\"#EBF0F8\",\"ticks\":\"\"},\"bgcolor\":\"white\",\"radialaxis\":{\"gridcolor\":\"#EBF0F8\",\"linecolor\":\"#EBF0F8\",\"ticks\":\"\"}},\"scene\":{\"xaxis\":{\"backgroundcolor\":\"white\",\"gridcolor\":\"#DFE8F3\",\"gridwidth\":2,\"linecolor\":\"#EBF0F8\",\"showbackground\":true,\"ticks\":\"\",\"zerolinecolor\":\"#EBF0F8\"},\"yaxis\":{\"backgroundcolor\":\"white\",\"gridcolor\":\"#DFE8F3\",\"gridwidth\":2,\"linecolor\":\"#EBF0F8\",\"showbackground\":true,\"ticks\":\"\",\"zerolinecolor\":\"#EBF0F8\"},\"zaxis\":{\"backgroundcolor\":\"white\",\"gridcolor\":\"#DFE8F3\",\"gridwidth\":2,\"linecolor\":\"#EBF0F8\",\"showbackground\":true,\"ticks\":\"\",\"zerolinecolor\":\"#EBF0F8\"}},\"shapedefaults\":{\"line\":{\"color\":\"#2a3f5f\"}},\"ternary\":{\"aaxis\":{\"gridcolor\":\"#DFE8F3\",\"linecolor\":\"#A2B1C6\",\"ticks\":\"\"},\"baxis\":{\"gridcolor\":\"#DFE8F3\",\"linecolor\":\"#A2B1C6\",\"ticks\":\"\"},\"bgcolor\":\"white\",\"caxis\":{\"gridcolor\":\"#DFE8F3\",\"linecolor\":\"#A2B1C6\",\"ticks\":\"\"}},\"title\":{\"x\":0.05},\"xaxis\":{\"automargin\":true,\"gridcolor\":\"#EBF0F8\",\"linecolor\":\"#EBF0F8\",\"ticks\":\"\",\"title\":{\"standoff\":15},\"zerolinecolor\":\"#EBF0F8\",\"zerolinewidth\":2},\"yaxis\":{\"automargin\":true,\"gridcolor\":\"#EBF0F8\",\"linecolor\":\"#EBF0F8\",\"ticks\":\"\",\"title\":{\"standoff\":15},\"zerolinecolor\":\"#EBF0F8\",\"zerolinewidth\":2}}},\"xaxis\":{\"anchor\":\"y\",\"domain\":[0.0,1.0],\"title\":{\"text\":\"Week\"},\"dtick\":\"M1\",\"tickformat\":\"%b %Y\",\"tickangle\":-45},\"yaxis\":{\"anchor\":\"x\",\"domain\":[0.0,1.0],\"title\":{\"text\":\"Number of Tweets\"}},\"legend\":{\"title\":{\"text\":\"Sentiment\"},\"tracegroupgap\":0},\"title\":{\"text\":\"Weekly Tweet Sentiment Over Time for KLM\"}},                        {\"responsive\": true}                    ).then(function(){\n",
       "                            \n",
       "var gd = document.getElementById('023fae57-0ac4-4fe7-9aba-c824ef09182e');\n",
       "var x = new MutationObserver(function (mutations, observer) {{\n",
       "        var display = window.getComputedStyle(gd).display;\n",
       "        if (!display || display === 'none') {{\n",
       "            console.log([gd, 'removed!']);\n",
       "            Plotly.purge(gd);\n",
       "            observer.disconnect();\n",
       "        }}\n",
       "}});\n",
       "\n",
       "// Listen for the removal of the full notebook cells\n",
       "var notebookContainer = gd.closest('#notebook-container');\n",
       "if (notebookContainer) {{\n",
       "    x.observe(notebookContainer, {childList: true});\n",
       "}}\n",
       "\n",
       "// Listen for the clearing of the current output cell\n",
       "var outputEl = gd.closest('.output');\n",
       "if (outputEl) {{\n",
       "    x.observe(outputEl, {childList: true});\n",
       "}}\n",
       "\n",
       "                        })                };            </script>        </div>"
      ]
     },
     "metadata": {},
     "output_type": "display_data"
    }
   ],
   "source": [
    "import plotly.express as px\n",
    "\n",
    "sentiment_cols_klm = ['positive', 'neutral', 'negative']\n",
    "cbf = ['#0072B2','#E69F00','#D35FB7']\n",
    "\n",
    "fig = px.area(\n",
    "    weekly_three_klm,\n",
    "    x='created_at',\n",
    "    y=sentiment_cols,\n",
    "    title='Weekly Tweet Sentiment Over Time for KLM',\n",
    "    labels={'value':'Tweet Count','created_at':'Week'},\n",
    "    template='plotly_white',\n",
    "    color_discrete_sequence=cbf\n",
    ")\n",
    "\n",
    "fig.update_xaxes(dtick=\"M1\", tickformat=\"%b %Y\", tickangle=-45)\n",
    "fig.update_layout(xaxis_title='Week', yaxis_title='Number of Tweets', legend_title='Sentiment')\n",
    "fig.show()"
   ]
  },
  {
   "cell_type": "code",
   "execution_count": null,
   "id": "b83e9054",
   "metadata": {},
   "outputs": [],
   "source": []
  }
 ],
 "metadata": {
  "kernelspec": {
   "display_name": "Python 3",
   "language": "python",
   "name": "python3"
  },
  "language_info": {
   "codemirror_mode": {
    "name": "ipython",
    "version": 3
   },
   "file_extension": ".py",
   "mimetype": "text/x-python",
   "name": "python",
   "nbconvert_exporter": "python",
   "pygments_lexer": "ipython3",
   "version": "3.8.8"
  }
 },
 "nbformat": 4,
 "nbformat_minor": 5
}
