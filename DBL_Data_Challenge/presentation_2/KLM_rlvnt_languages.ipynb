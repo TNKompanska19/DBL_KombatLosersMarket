{
 "cells": [
  {
   "cell_type": "code",
   "execution_count": 3,
   "id": "190015ec",
   "metadata": {},
   "outputs": [],
   "source": [
    "# IMPORTS #\n",
    "import psycopg2\n",
    "import pandas as pd\n",
    "import os,sys\n",
    "config_path = os.path.abspath(os.path.join(os.getcwd(), '..','..', 'Loading_Database'))\n",
    "sys.path.append(config_path)\n",
    "from configuration import *"
   ]
  },
  {
   "cell_type": "code",
   "execution_count": 4,
   "id": "cdbefaf8",
   "metadata": {},
   "outputs": [
    {
     "name": "stderr",
     "output_type": "stream",
     "text": [
      "C:\\Users\\pavel\\AppData\\Local\\Temp\\ipykernel_16536\\257869596.py:23: UserWarning: pandas only supports SQLAlchemy connectable (engine/connection) or database string URI or sqlite3 DBAPI2 connection. Other DBAPI2 objects are not tested. Please consider using SQLAlchemy.\n",
      "  klm_lang_distribution = pd.read_sql_query(query, conn)\n"
     ]
    },
    {
     "name": "stdout",
     "output_type": "stream",
     "text": [
      "Total tweets about/from KLM: 1102\n",
      "   lang  tweet_count\n",
      "0    en          472\n",
      "1    nl          338\n",
      "2    in           92\n",
      "3    es           52\n",
      "4    fr           33\n",
      "5   und           29\n",
      "6    ja           26\n",
      "7    tr            9\n",
      "8    it            8\n",
      "9    ht            7\n",
      "10   de            6\n",
      "11   pt            6\n",
      "12   tl            6\n",
      "13   no            4\n",
      "14   sv            2\n",
      "15   et            2\n",
      "16   ar            2\n",
      "17   eu            1\n",
      "18   pl            1\n",
      "19   ko            1\n",
      "20   ml            1\n",
      "21   lt            1\n",
      "22   cs            1\n",
      "23   ru            1\n",
      "24   da            1\n"
     ]
    }
   ],
   "source": [
    "import psycopg2\n",
    "import pandas as pd\n",
    "\n",
    "# Connect to the PostgreSQL DB\n",
    "conn = psycopg2.connect(DATABASE_URL)\n",
    "\n",
    "# Query: tweets about or from KLM + language distribution\n",
    "query = \"\"\"\n",
    "    SELECT\n",
    "        tweets.lang,\n",
    "        COUNT(*) AS tweet_count\n",
    "    FROM tweets\n",
    "    JOIN users ON tweets.user_id = users.id\n",
    "    WHERE\n",
    "        LOWER(tweets.text) LIKE '%klm%' OR\n",
    "        LOWER(tweets.text) LIKE '%@klm%' OR\n",
    "        LOWER(users.screen_name) = 'klm'\n",
    "    GROUP BY tweets.lang\n",
    "    ORDER BY tweet_count DESC\n",
    "\"\"\"\n",
    "\n",
    "# Load results into DataFrame\n",
    "klm_lang_distribution = pd.read_sql_query(query, conn)\n",
    "\n",
    "# Close DB connection\n",
    "conn.close()\n",
    "\n",
    "# Output\n",
    "total = klm_lang_distribution[\"tweet_count\"].sum()\n",
    "print(f\"Total tweets about/from KLM: {total}\")\n",
    "print(klm_lang_distribution)\n"
   ]
  }
 ],
 "metadata": {
  "kernelspec": {
   "display_name": "Python (global-venv)",
   "language": "python",
   "name": "global-venv"
  },
  "language_info": {
   "codemirror_mode": {
    "name": "ipython",
    "version": 3
   },
   "file_extension": ".py",
   "mimetype": "text/x-python",
   "name": "python",
   "nbconvert_exporter": "python",
   "pygments_lexer": "ipython3",
   "version": "3.12.10"
  }
 },
 "nbformat": 4,
 "nbformat_minor": 5
}
